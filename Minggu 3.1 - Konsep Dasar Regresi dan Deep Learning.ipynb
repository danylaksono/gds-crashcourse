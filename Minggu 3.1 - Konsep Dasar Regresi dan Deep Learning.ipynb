{
  "nbformat": 4,
  "nbformat_minor": 0,
  "metadata": {
    "colab": {
      "name": "Minggu 3.1 - Konsep Dasar Regresi dan Deep Learning.ipynb",
      "provenance": [],
      "collapsed_sections": [],
      "toc_visible": true
    },
    "kernelspec": {
      "name": "python3",
      "display_name": "Python 3"
    },
    "accelerator": "GPU"
  },
  "cells": [
    {
      "cell_type": "markdown",
      "metadata": {
        "id": "OlUxH4SW_RSJ"
      },
      "source": [
        "# Deep Learning: Konsep dan Aplikasi Geospasial\r\n",
        "\r\n",
        "**Bagian 1: Memahami Pembuatan Model pada Deep Learning**\r\n",
        "\r\n",
        "Notebook ini merupakan bagian terakhir dari serangkaian Notebook yang memuat panduan dan latihan untuk pelatihan Geospatial Data Science untuk aplikasi di bidang Geospasial. Pada bagian pertama dan kedua, kita telah melihat bagaimana perkembangan Data Science memiliki pengaruh sangat besar dalam bidang Geospasial. Demikian pula, aplikasi machine learning dalam bidang Geospasial yang mempengaruhi bagaimana analisis terhadap data spasial yang sangat banyak mampu dilakukan secara efisien.\r\n",
        "\r\n",
        "Pada bagian ketiga ini akan dibahas secara ringkas mengenai dasar dari Deep Learning sebagai fokus khusus dalam bidang Machine Learning. Aplikasi Deep Learning dapat kita jumpai pada berbagai bidang, demikian pula pada bidang geospasial yang akan kita kerjakan sebagai latihan di akhir notebook ini. \r\n",
        "\r\n",
        "Penjelasan mengenai Deep Learning memerlukan pembahasan yang panjang. Notebook ini hanya akan memberikan sedikit bahasan tentang bagaimana model Deep Learning dibuat menggunakan Tensorflow dan antarmuka Keras. Pembaca disarankan untuk mencari rujukan yang lebih komprehensif mengenai Deep Learning untuk memahami konsep serta penggunaan Deep Learning untuk berbagai aplikasi."
      ]
    },
    {
      "cell_type": "markdown",
      "metadata": {
        "id": "eQmJiIIvJuQa"
      },
      "source": [
        "## Pengantar\r\n",
        "\r\n",
        "Sebagaimana Machine Learning, pembahasan Deep Learning menguat seiring dengan perkembangan isu pada Industri 4.0. Saat ini aplikasi Deep Learning telah memasuki berbagai bidang, bahkan yang kita jumpai sehari-hari.  \r\n",
        "\r\n",
        "![](https://imgs.xkcd.com/comics/machine_learning_captcha_2x.png)\r\n",
        "\r\n",
        "Pada Latihan ini akan diberikan dasar dari Deep Learning: Bagaimana membuat sebuah model yang dapat mempelajari sendiri pola dari suatu data.\r\n",
        "\r\n",
        "\r\n",
        "\r\n"
      ]
    },
    {
      "cell_type": "markdown",
      "metadata": {
        "id": "mEEbF82Z96BG"
      },
      "source": [
        "> Sebelum membaca lebih jauh, terlebih dahulu aktifkan mode GPU pada Runtime Google Colab Anda. Hitungan Deep Learning memerlukan kemampuan komputasi maksimal yang tersedia"
      ]
    },
    {
      "cell_type": "markdown",
      "metadata": {
        "id": "8hQROQ75uWoE"
      },
      "source": [
        "## Memahami Dasar Deep Learning dengan Tensorflow\r\n",
        "\r\n",
        "Perhatikan sebuah persamaan dalam bentuk pseudocode berikut:\r\n",
        "\r\n",
        "```\r\n",
        "float persamaan(float x){\r\n",
        "    float y = (3 * x) + 1;\r\n",
        "    return y;\r\n",
        "}\r\n",
        "```\r\n",
        "\r\n",
        "pada persamaan di atas, kita sebagai programmer menentukan sebuah parameter yang akan kita hitung, yaitu *x*. Dengan demikian, apabila kita memiliki nilai x, maka kita akan dapat menghitung y dengan mudah. Jika nilai x adalah 10, maka nilai y tentunya adalah 31, misalnya.\r\n",
        "\r\n",
        "Dalam Deep Learning, kita memberikan x dan y kepada mesin, kemudian dari model yang kita bangun, mesin tersebut akan mempelajari pola yang mungkin, kemudian memberikan jawaban apabila kita berikan data yang baru. Pada bagian ini kita akan coba membuat sebuah model untuk menentukan pola dari beberapa data yang kita masukkan ke dalam model. Kita akan menggunakan Tensorflow dan Keras untuk keperluan ini."
      ]
    },
    {
      "cell_type": "code",
      "metadata": {
        "id": "qHdgwL0NuhGA"
      },
      "source": [
        "# memanggil library yang diperlukan\r\n",
        "import tensorflow as tf\r\n",
        "import numpy as np\r\n",
        "from tensorflow import keras\r\n",
        "from matplotlib import pyplot"
      ],
      "execution_count": 1,
      "outputs": []
    },
    {
      "cell_type": "markdown",
      "metadata": {
        "id": "nayCM3iuuoN7"
      },
      "source": [
        "## Menyusun Model\r\n",
        "\r\n",
        "Model adalah jaringan atau network yang kita bangun untuk mendeteksi pola berdasarkan atas bobot dan bias yang diperoleh pada saat training. Pada bagian ini kita akan membuat sebuah model Dense Neural Network yang sangat dangkal: hanya satu layer dengan satu unit neuron di dalamnya. "
      ]
    },
    {
      "cell_type": "code",
      "metadata": {
        "id": "CDw7indbuoxg"
      },
      "source": [
        "model = tf.keras.Sequential([keras.layers.Dense(units=1, input_shape=[1])])"
      ],
      "execution_count": 2,
      "outputs": []
    },
    {
      "cell_type": "code",
      "metadata": {
        "id": "Hi1q6X86X3g5"
      },
      "source": [
        "## cell berikut menjelaskan tentang cara menambahkan layer pada sebuah model\r\n",
        "## cara penulisan ini disarankan apabila layer memiliki kedalaman yang cukup kompleks\r\n",
        "## hilangkan komentar untuk mengaktifkan perintah pada cell ini\r\n",
        "\r\n",
        "\r\n",
        "## untuk membersihkan backend apabila model dijalankan beberapa kali\r\n",
        "# keras.backend.clear_session()\r\n",
        "\r\n",
        "# from keras.layers import Dense\r\n",
        "\r\n",
        "## cara penulisan lain:\r\n",
        "# model = tf.keras.Sequential()\r\n",
        "# model.add(Dense(1, input_shape=[1])) # unit dinyatakan pada parameter pertama\r\n",
        "# model.add(Dense(5, activation='relu')) # layer kedua dengan kedalaman 5, aktivasi Relu\r\n",
        "\r\n",
        "## error (di video rekaman) muncul karena dua bentuk penulisan ini digabung. \r\n",
        "## Seharusnya untuk tiap jenis penulisan, gunakan pendefinisian layer masing-masing"
      ],
      "execution_count": 3,
      "outputs": []
    },
    {
      "cell_type": "markdown",
      "metadata": {
        "id": "CRJSoQlz9WXn"
      },
      "source": [
        "Dengan menggunakan `model.summary` kita akan dapat melihat struktur dari model yang kita susun berikut jumlah parameternya:"
      ]
    },
    {
      "cell_type": "code",
      "metadata": {
        "colab": {
          "base_uri": "https://localhost:8080/"
        },
        "id": "aSIxZ_tUgo2X",
        "outputId": "7985cf6d-27e9-4760-973d-b21d250d6a52"
      },
      "source": [
        "# bagaimana arsitektur dari model yang kita buat?\r\n",
        "model.summary()"
      ],
      "execution_count": 4,
      "outputs": [
        {
          "output_type": "stream",
          "text": [
            "Model: \"sequential\"\n",
            "_________________________________________________________________\n",
            "Layer (type)                 Output Shape              Param #   \n",
            "=================================================================\n",
            "dense (Dense)                (None, 1)                 2         \n",
            "=================================================================\n",
            "Total params: 2\n",
            "Trainable params: 2\n",
            "Non-trainable params: 0\n",
            "_________________________________________________________________\n"
          ],
          "name": "stdout"
        }
      ]
    },
    {
      "cell_type": "markdown",
      "metadata": {
        "id": "rSWDkaK--Gah"
      },
      "source": [
        "Dari model di atas kita dapati ada dua parameter yang akan diadjust untuk meminimalisir error. Apa sajakah parameter ini?"
      ]
    },
    {
      "cell_type": "markdown",
      "metadata": {
        "id": "uSkQI8NciNPE"
      },
      "source": [
        "## Melakukan Kompilasi dan Inisiasi Metrics\r\n",
        "\r\n",
        "Model yang kita buat perlu dikompilasi dengan beberapa parameter tertentu, seperti hitungan untuk Loss function dan metode optimasinya. Pada kode di bawah kita akan menggunakan SGD (Stochastic Gradient Descent) sebagai optimizer untuk meminimalkan error, sementara errornya sendiri kita hitung menggunakan MSE. Kita juga sisipkan catatan untuk metrik dalam bentuk akurasi agar nantinya kita dapat melihat bagaimana proses training model ini berjalan."
      ]
    },
    {
      "cell_type": "code",
      "metadata": {
        "id": "LfYwJk5suyKr"
      },
      "source": [
        "# melakukan kompilasi model menggunakan SGD sebagai optimizer\r\n",
        "# serta MSE sebagai ukuran error untuk bias\r\n",
        "# tampilkan juga nilai akurasinya\r\n",
        "model.compile(optimizer='sgd', loss='mean_squared_error', metrics=['accuracy'])\r\n"
      ],
      "execution_count": 5,
      "outputs": []
    },
    {
      "cell_type": "markdown",
      "metadata": {
        "id": "m59jK_bl-OV4"
      },
      "source": [
        "Selanjutnya, kita memiliki data sebagai berikut:"
      ]
    },
    {
      "cell_type": "code",
      "metadata": {
        "id": "psl3BsHQu0Vq"
      },
      "source": [
        "# apa kira-kira hubungan antara dua variabel ini?\r\n",
        "xs = np.array([-1.0, 0.0, 1.0, 2.0, 3.0, 4.0], dtype=float)\r\n",
        "ys = np.array([-2.0, 1.0, 4.0, 7.0, 10.0, 13.0], dtype=float)"
      ],
      "execution_count": 6,
      "outputs": []
    },
    {
      "cell_type": "markdown",
      "metadata": {
        "id": "dP9m2Bh6-R6S"
      },
      "source": [
        "Apabila melihat hubungan antara kedua data tersebut, kira-kira apakah Anda dapat menentukan polanya? \r\n",
        "\r\n",
        "Apakah komputer juga akan dapat mengenalinya? kita coba lakukan fitting model yang sudah kita buat pada data tersebut, kemudian menampilkan akurasi pada tiap epoknya."
      ]
    },
    {
      "cell_type": "code",
      "metadata": {
        "colab": {
          "base_uri": "https://localhost:8080/"
        },
        "id": "vtUxtquDu2Ci",
        "outputId": "6d19c5d4-bc88-4cbd-a483-f09a8018d414"
      },
      "source": [
        "history = model.fit(xs, ys, epochs=50)\r\n",
        "history"
      ],
      "execution_count": 7,
      "outputs": [
        {
          "output_type": "stream",
          "text": [
            "Epoch 1/50\n",
            "1/1 [==============================] - 0s 470ms/step - loss: 66.1659 - accuracy: 0.0000e+00\n",
            "Epoch 2/50\n",
            "1/1 [==============================] - 0s 5ms/step - loss: 52.0564 - accuracy: 0.0000e+00\n",
            "Epoch 3/50\n",
            "1/1 [==============================] - 0s 4ms/step - loss: 40.9558 - accuracy: 0.0000e+00\n",
            "Epoch 4/50\n",
            "1/1 [==============================] - 0s 5ms/step - loss: 32.2223 - accuracy: 0.0000e+00\n",
            "Epoch 5/50\n",
            "1/1 [==============================] - 0s 3ms/step - loss: 25.3512 - accuracy: 0.0000e+00\n",
            "Epoch 6/50\n",
            "1/1 [==============================] - 0s 3ms/step - loss: 19.9454 - accuracy: 0.0000e+00\n",
            "Epoch 7/50\n",
            "1/1 [==============================] - 0s 2ms/step - loss: 15.6923 - accuracy: 0.1667\n",
            "Epoch 8/50\n",
            "1/1 [==============================] - 0s 3ms/step - loss: 12.3462 - accuracy: 0.1667\n",
            "Epoch 9/50\n",
            "1/1 [==============================] - 0s 2ms/step - loss: 9.7136 - accuracy: 0.1667\n",
            "Epoch 10/50\n",
            "1/1 [==============================] - 0s 4ms/step - loss: 7.6424 - accuracy: 0.1667\n",
            "Epoch 11/50\n",
            "1/1 [==============================] - 0s 2ms/step - loss: 6.0129 - accuracy: 0.1667\n",
            "Epoch 12/50\n",
            "1/1 [==============================] - 0s 2ms/step - loss: 4.7309 - accuracy: 0.1667\n",
            "Epoch 13/50\n",
            "1/1 [==============================] - 0s 3ms/step - loss: 3.7223 - accuracy: 0.1667\n",
            "Epoch 14/50\n",
            "1/1 [==============================] - 0s 4ms/step - loss: 2.9287 - accuracy: 0.1667\n",
            "Epoch 15/50\n",
            "1/1 [==============================] - 0s 3ms/step - loss: 2.3044 - accuracy: 0.1667\n",
            "Epoch 16/50\n",
            "1/1 [==============================] - 0s 6ms/step - loss: 1.8132 - accuracy: 0.1667\n",
            "Epoch 17/50\n",
            "1/1 [==============================] - 0s 4ms/step - loss: 1.4267 - accuracy: 0.1667\n",
            "Epoch 18/50\n",
            "1/1 [==============================] - 0s 4ms/step - loss: 1.1227 - accuracy: 0.1667\n",
            "Epoch 19/50\n",
            "1/1 [==============================] - 0s 3ms/step - loss: 0.8835 - accuracy: 0.1667\n",
            "Epoch 20/50\n",
            "1/1 [==============================] - 0s 4ms/step - loss: 0.6953 - accuracy: 0.1667\n",
            "Epoch 21/50\n",
            "1/1 [==============================] - 0s 3ms/step - loss: 0.5472 - accuracy: 0.1667\n",
            "Epoch 22/50\n",
            "1/1 [==============================] - 0s 3ms/step - loss: 0.4307 - accuracy: 0.1667\n",
            "Epoch 23/50\n",
            "1/1 [==============================] - 0s 3ms/step - loss: 0.3390 - accuracy: 0.1667\n",
            "Epoch 24/50\n",
            "1/1 [==============================] - 0s 3ms/step - loss: 0.2669 - accuracy: 0.1667\n",
            "Epoch 25/50\n",
            "1/1 [==============================] - 0s 3ms/step - loss: 0.2102 - accuracy: 0.1667\n",
            "Epoch 26/50\n",
            "1/1 [==============================] - 0s 2ms/step - loss: 0.1655 - accuracy: 0.1667\n",
            "Epoch 27/50\n",
            "1/1 [==============================] - 0s 5ms/step - loss: 0.1304 - accuracy: 0.1667\n",
            "Epoch 28/50\n",
            "1/1 [==============================] - 0s 5ms/step - loss: 0.1027 - accuracy: 0.1667\n",
            "Epoch 29/50\n",
            "1/1 [==============================] - 0s 4ms/step - loss: 0.0810 - accuracy: 0.1667\n",
            "Epoch 30/50\n",
            "1/1 [==============================] - 0s 3ms/step - loss: 0.0639 - accuracy: 0.1667\n",
            "Epoch 31/50\n",
            "1/1 [==============================] - 0s 6ms/step - loss: 0.0504 - accuracy: 0.1667\n",
            "Epoch 32/50\n",
            "1/1 [==============================] - 0s 4ms/step - loss: 0.0398 - accuracy: 0.1667\n",
            "Epoch 33/50\n",
            "1/1 [==============================] - 0s 5ms/step - loss: 0.0315 - accuracy: 0.1667\n",
            "Epoch 34/50\n",
            "1/1 [==============================] - 0s 6ms/step - loss: 0.0249 - accuracy: 0.1667\n",
            "Epoch 35/50\n",
            "1/1 [==============================] - 0s 8ms/step - loss: 0.0197 - accuracy: 0.1667\n",
            "Epoch 36/50\n",
            "1/1 [==============================] - 0s 5ms/step - loss: 0.0157 - accuracy: 0.1667\n",
            "Epoch 37/50\n",
            "1/1 [==============================] - 0s 3ms/step - loss: 0.0125 - accuracy: 0.1667\n",
            "Epoch 38/50\n",
            "1/1 [==============================] - 0s 5ms/step - loss: 0.0099 - accuracy: 0.1667\n",
            "Epoch 39/50\n",
            "1/1 [==============================] - 0s 4ms/step - loss: 0.0079 - accuracy: 0.1667\n",
            "Epoch 40/50\n",
            "1/1 [==============================] - 0s 5ms/step - loss: 0.0064 - accuracy: 0.1667\n",
            "Epoch 41/50\n",
            "1/1 [==============================] - 0s 7ms/step - loss: 0.0051 - accuracy: 0.1667\n",
            "Epoch 42/50\n",
            "1/1 [==============================] - 0s 7ms/step - loss: 0.0042 - accuracy: 0.1667\n",
            "Epoch 43/50\n",
            "1/1 [==============================] - 0s 5ms/step - loss: 0.0034 - accuracy: 0.1667\n",
            "Epoch 44/50\n",
            "1/1 [==============================] - 0s 7ms/step - loss: 0.0028 - accuracy: 0.1667\n",
            "Epoch 45/50\n",
            "1/1 [==============================] - 0s 5ms/step - loss: 0.0023 - accuracy: 0.1667\n",
            "Epoch 46/50\n",
            "1/1 [==============================] - 0s 3ms/step - loss: 0.0019 - accuracy: 0.1667\n",
            "Epoch 47/50\n",
            "1/1 [==============================] - 0s 5ms/step - loss: 0.0016 - accuracy: 0.1667\n",
            "Epoch 48/50\n",
            "1/1 [==============================] - 0s 5ms/step - loss: 0.0014 - accuracy: 0.1667\n",
            "Epoch 49/50\n",
            "1/1 [==============================] - 0s 4ms/step - loss: 0.0012 - accuracy: 0.1667\n",
            "Epoch 50/50\n",
            "1/1 [==============================] - 0s 5ms/step - loss: 0.0010 - accuracy: 0.1667\n"
          ],
          "name": "stdout"
        },
        {
          "output_type": "execute_result",
          "data": {
            "text/plain": [
              "<tensorflow.python.keras.callbacks.History at 0x7f48f0d43c90>"
            ]
          },
          "metadata": {
            "tags": []
          },
          "execution_count": 7
        }
      ]
    },
    {
      "cell_type": "markdown",
      "metadata": {
        "id": "qGBGXSo0iT-5"
      },
      "source": [
        "## Menampilkan Evaluasi Data\r\n",
        "\r\n",
        "Dari contoh fitting di atas kita dapat melihat bagaimana nilai akurasi dan loss saling berinteraksi. Untuk tiap epok yang berjalan terjadi perubahan nilai akurasi dan loss, dimana nilai Loss untuk tiap epok menjadi semakin kecil. Kita dapat tampilkan polanya sebagai berikut:"
      ]
    },
    {
      "cell_type": "code",
      "metadata": {
        "colab": {
          "base_uri": "https://localhost:8080/",
          "height": 269
        },
        "id": "Co5qeBRcRCJW",
        "outputId": "1df332df-f784-465c-9edb-3a521f31cad8"
      },
      "source": [
        "pyplot.plot(history.history['accuracy'])\r\n",
        "pyplot.show()"
      ],
      "execution_count": 8,
      "outputs": [
        {
          "output_type": "display_data",
          "data": {
            "image/png": "[encoded data removed]",
            "text/plain": [
              "<Figure size 432x288 with 1 Axes>"
            ]
          },
          "metadata": {
            "tags": [],
            "needs_background": "light"
          }
        }
      ]
    },
    {
      "cell_type": "markdown",
      "metadata": {
        "id": "Nj9cX9__5gmk"
      },
      "source": [
        "Sekarang kita coba cetak bagaimana nilai loss berubah tiap epoknya:"
      ]
    },
    {
      "cell_type": "code",
      "metadata": {
        "id": "8oJv9x4i5gJ4",
        "outputId": "4245ef21-bd01-41b9-fe5b-9386b4364b62",
        "colab": {
          "base_uri": "https://localhost:8080/",
          "height": 265
        }
      },
      "source": [
        "pyplot.plot(history.history['loss'])\r\n",
        "pyplot.show()"
      ],
      "execution_count": 10,
      "outputs": [
        {
          "output_type": "display_data",
          "data": {
            "image/png": "[encoded data removed]",
            "text/plain": [
              "<Figure size 432x288 with 1 Axes>"
            ]
          },
          "metadata": {
            "tags": [],
            "needs_background": "light"
          }
        }
      ]
    },
    {
      "cell_type": "markdown",
      "metadata": {
        "id": "aLx7aqDp-xls"
      },
      "source": [
        "Dan terakhir, kita coba pada data baru yang belum pernah dilihat oleh model ini sebelumnya. Apakah nilainya sesuai dengan perkiraan Anda?"
      ]
    },
    {
      "cell_type": "code",
      "metadata": {
        "colab": {
          "base_uri": "https://localhost:8080/"
        },
        "id": "VWl4D0VYu4bS",
        "outputId": "2a202173-e4f7-4b32-d3b0-7b251ddd170e"
      },
      "source": [
        "# berapa kira2 nilai Y jika X adalah 10?\r\n",
        "print(model.predict([10.0]))"
      ],
      "execution_count": 9,
      "outputs": [
        {
          "output_type": "stream",
          "text": [
            "[[30.849531]]\n"
          ],
          "name": "stdout"
        }
      ]
    },
    {
      "cell_type": "markdown",
      "metadata": {
        "id": "id2Gwf3x5KGy"
      },
      "source": [
        "Pada contoh di atas, kita telah melihat bagaimana Deep Learning digunakan untuk membuat 'rule' atau aturan agar dapat belajar mengenai pola yang kita inginkan dari data yang ada. Tentunya, model yang digunakan dalam deep learning memerlukan data yang lebih banyak lagi agar lebih akurat. Selanjutnya, kerjakan latihan di bawah ini untuk memahamkan mengenai materi ini."
      ]
    },
    {
      "cell_type": "markdown",
      "metadata": {
        "id": "ThVvf0VG3pzi"
      },
      "source": [
        "## Latihan\r\n",
        "\r\n",
        "Kerjakan Soal dan Latihan berikut:\r\n",
        "\r\n",
        "1. Buatlah pasangan set data baru sejumlah 10 data x dan y dengan pola tertentu, kemudian buat model baru untuk memprediksi keluaran dari nilai masukan yang berbeda. Berapa akurasi model? Apakah model dapat memprediksi dengan benar?\r\n",
        "\r\n",
        "2. Lakukan perubahan pada jumlah epok. Apa yang terjadi pada tingkat akurasi dan loss-nya?\r\n",
        "\r\n",
        "2. Pada contoh di atas kita menggunakan satu layer dengan kedalaman (unit) berupa satu neuron. Apa yang terjadi jika Anda menambahkan Layer dan kedalaman neuronnya? apakah akurasinya semakin baik?"
      ]
    },
    {
      "cell_type": "markdown",
      "metadata": {
        "id": "LqjgaoMr8b1T"
      },
      "source": [
        "## Rujukan\r\n",
        "\r\n",
        "* https://www.youtube.com/watch?v=aircAruvnKk\r\n",
        "* https://www.tensorflow.org/tutorials/"
      ]
    }
  ]
}